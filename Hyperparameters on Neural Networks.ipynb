{
  "cells": [
    {
      "cell_type": "code",
      "execution_count": 1,
      "metadata": {
        "id": "omE-bCTsDw_b"
      },
      "outputs": [],
      "source": [
        "import numpy as np\n",
        "import matplotlib.pyplot as plt"
      ]
    },
    {
      "cell_type": "code",
      "execution_count": null,
      "metadata": {
        "id": "fizc6Fqqr81N"
      },
      "outputs": [],
      "source": [
        "from google.colab import drive\n",
        "drive.mount('/content/drive')"
      ]
    },
    {
      "cell_type": "code",
      "execution_count": null,
      "metadata": {
        "id": "A8j2FYhmWwo-"
      },
      "outputs": [],
      "source": [
        "X = np.load(\"/content/drive/MyDrive/ML/featuresRGB.npy\")\n",
        "Y = np.load(\"/content/drive/MyDrive/ML/labelRGB.npy\")\n",
        "X = X/255.0"
      ]
    },
    {
      "cell_type": "code",
      "execution_count": 3,
      "metadata": {
        "id": "VIww9c0NDgyq"
      },
      "outputs": [],
      "source": [
        "import tensorflow as tf\n",
        "from tensorflow.keras.models import Sequential\n",
        "from tensorflow.keras.layers import Dense, Dropout, Activation, Flatten, Convolution2D, MaxPooling2D\n",
        "from sklearn.model_selection import KFold"
      ]
    },
    {
      "cell_type": "code",
      "execution_count": null,
      "metadata": {
        "id": "JTqhziriD3pb"
      },
      "outputs": [],
      "source": [
        "def cnn():\n",
        "    model = Sequential()\n",
        "    model.add(Convolution2D(64, (3, 3), activation=tf.nn.relu, input_shape=X.shape[1:]))\n",
        "    model.add(MaxPooling2D((2, 2)))\n",
        "    model.add(Convolution2D(64, (3, 3), activation=tf.nn.relu))\n",
        "    model.add(MaxPooling2D((2, 2)))\n",
        "    model.add(Convolution2D(64, (3, 3), activation=tf.nn.relu))\n",
        "    model.add(MaxPooling2D((2, 2)))\n",
        "    model.add(Flatten())\n",
        "    model.add(Dropout(0.5))\n",
        "    model.add(Dense(64, activation=tf.nn.relu))\n",
        "    model.add(Dropout(0.5))\n",
        "    model.add(Dense(1, activation=tf.nn.sigmoid))\n",
        "\n",
        "    model.compile(optimizer=tf.keras.optimizers.Adam,\n",
        "              loss=tf.keras.losses.binary_crossentropy,\n",
        "              metrics='accuracy' )\n",
        "    return model"
      ]
    },
    {
      "cell_type": "code",
      "execution_count": null,
      "metadata": {
        "id": "_8lJGLDrD5Mi"
      },
      "outputs": [],
      "source": [
        "def mlp():\n",
        "    model = Sequential()\n",
        "    model.add(Flatten(input_shape=X.shape[1:])) # input layer\n",
        "    model.add(Dense(64, activation=tf.nn.relu))\n",
        "    model.add(Dense(64, activation=tf.nn.relu))\n",
        "    model.add(Dense(64, activation=tf.nn.relu))\n",
        "    model.add(Dense(1, activation=tf.nn.sigmoid))\n",
        "    model.compile(optimizer=tf.keras.optimizers.Adam,\n",
        "            loss=tf.keras.losses.binary_crossentropy,\n",
        "            metrics='accuracy' )\n",
        "    return model"
      ]
    },
    {
      "cell_type": "code",
      "execution_count": null,
      "metadata": {
        "id": "lChAAeYbD79T"
      },
      "outputs": [],
      "source": [
        "kfold = KFold(n_splits=5, shuffle=True)\n",
        "\n",
        "parameter_history = []\n",
        "parameters = []\n",
        "for p in parameters:\n",
        "    #Recording of outputs\n",
        "    cur_param = [p]\n",
        "    cur_score = []\n",
        "    fold_no = 1\n",
        "    #create model and save weights to be able to reset the model\n",
        "    model = cnn()\n",
        "    model.save_weights(\"/content/drive/MyDrive/ML/weights.h5\")\n",
        "\n",
        "    for train, test in kfold.split(X, Y):\n",
        "        #reset model\n",
        "        model.load_weights(\"/content/drive/MyDrive/ML/weights.h5\")\n",
        "\n",
        "        history = model.fit(X[train], Y[train],\n",
        "                    batch_size=32,\n",
        "                    epochs=10,\n",
        "                    validation_split=0.1,\n",
        "                    verbose=0)\n",
        "        \n",
        "        scores = model.evaluate(X[test], Y[test], verbose=1)\n",
        "\n",
        "        cur_param.append(history.history)\n",
        "        cur_score.append(scores)\n",
        "        fold_no = fold_no + 1\n",
        "    del model\n",
        "    cur_param.append(cur_score)\n",
        "    parameter_history.append(cur_param)"
      ]
    },
    {
      "cell_type": "code",
      "execution_count": null,
      "metadata": {
        "id": "DAj7jlAB9YZg"
      },
      "outputs": [],
      "source": [
        "#data extraction\n",
        "final = []\n",
        "for p in parameter_history:\n",
        "    tl = []\n",
        "    ta = []\n",
        "    vl = []\n",
        "    va = []\n",
        "    s = []\n",
        "    for cur in p[1:-1]:\n",
        "        tl.append(cur['loss'])\n",
        "        ta.append(cur['accuracy'])\n",
        "        vl.append(cur['val_loss'])\n",
        "        va.append(cur['val_accuracy'])\n",
        "    s = np.mean(p[-1], axis=0)\n",
        "    tl = np.mean(tl, axis=0)\n",
        "    ta = np.mean(ta, axis=0)\n",
        "    vl = np.mean(vl, axis=0)\n",
        "    va = np.mean(va, axis=0)\n",
        "    final.append([p[0], tl, ta, vl, va, s])"
      ]
    },
    {
      "cell_type": "code",
      "execution_count": null,
      "metadata": {
        "id": "Fp5-5IfuT9qT"
      },
      "outputs": [],
      "source": [
        "np.save(\"/content/drive/MyDrive/ML/Recordings/olr_cnn_adam.npy\", np.array(final,dtype=object))"
      ]
    },
    {
      "cell_type": "code",
      "execution_count": null,
      "metadata": {
        "id": "6fgRazVHQc5T"
      },
      "outputs": [],
      "source": [
        "final = np.load(\"/content/drive/MyDrive/ML/Recordings/olr_cnn_adam.npy\", allow_pickle=True)"
      ]
    },
    {
      "cell_type": "code",
      "execution_count": null,
      "metadata": {
        "id": "n8fev66ba09K"
      },
      "outputs": [],
      "source": [
        "parameters = []\n",
        "trainloss = []\n",
        "trainaccu = []\n",
        "evalloss = []\n",
        "evalaccu = []\n",
        "for p in final:\n",
        "    parameters.append(str(p[0]))\n",
        "    trainloss.append(p[1][-1])\n",
        "    trainaccu.append(p[2][-1])\n",
        "    evalloss.append(p[-1][0])\n",
        "    evalaccu.append(p[-1][1])"
      ]
    },
    {
      "cell_type": "code",
      "execution_count": null,
      "metadata": {
        "id": "nM_PlWfSNnlp"
      },
      "outputs": [],
      "source": [
        "#PARAMETER VS LOSS AND ACCURACY GRAPH\n",
        "parameters = [\"ADAM\", \"SGD\", \"ADAMAX\"]\n",
        "plt.figure(figsize=(16, 6))\n",
        "plt.style.use('ggplot')\n",
        "# Plot loss\n",
        "plt.subplot(1, 2, 1)\n",
        "plt.bar(parameters, trainloss )\n",
        "plt.bar(parameters, evalloss )\n",
        "#plt.yticks(np.arange(0, 1, 0.1))\n",
        "plt.ylabel('loss', size=12)\n",
        "plt.xlabel(\"Nodes in each layer\", size=12)\n",
        "plt.legend(['train', 'val'], fontsize=14)\n",
        "\n",
        "# Plot accuracy\n",
        "plt.subplot(1, 2, 2)\n",
        "plt.plot(parameters,trainaccu)\n",
        "plt.plot(parameters,evalaccu)\n",
        "#plt.yticks(np.arange(0, 1, 0.1))\n",
        "plt.ylabel('accuracy', size=12)\n",
        "plt.xlabel(\"Nodes in each layer\", size=12)\n",
        "plt.legend(['train', 'val'], fontsize=14)\n",
        "\n",
        "plt.show()"
      ]
    },
    {
      "cell_type": "code",
      "execution_count": null,
      "metadata": {
        "id": "sn1Xn6_oO6JR"
      },
      "outputs": [],
      "source": [
        "#ONLY ONE PARAMETER EPOCH GRAPH\n",
        "h = final[3]\n",
        "plt.figure(figsize=(16, 6))\n",
        "plt.suptitle(f'Parameter {h[0]}')\n",
        "plt.style.use('ggplot')\n",
        "\n",
        "# Plot loss\n",
        "plt.subplot(1, 2, 1)\n",
        "plt.plot(h[1])\n",
        "plt.plot(h[3])\n",
        "plt.xticks(np.arange(1, len(h[1]), 1.0))\n",
        "plt.ylabel('loss', size=12)\n",
        "plt.xlabel('epoch', size=12)\n",
        "plt.legend(['train', 'val'], fontsize=14)\n",
        "\n",
        "# Plot accuracy\n",
        "plt.subplot(1, 2, 2)\n",
        "plt.plot(h[2][:21])\n",
        "plt.plot(h[4][:21])\n",
        "plt.xticks(np.arange(1, 21, 1.0))\n",
        "plt.ylabel('accuracy', size=12)\n",
        "plt.xlabel('epoch', size=12)\n",
        "plt.legend(['train', 'val'], fontsize=14)\n",
        "\n",
        "plt.show()"
      ]
    },
    {
      "cell_type": "code",
      "execution_count": null,
      "metadata": {
        "id": "bDWbndVYhRC-"
      },
      "outputs": [],
      "source": [
        "#COMPARE TWO GRAPH\n",
        "X = final\n",
        "h = X[0]\n",
        "k = X[-1]\n",
        "print(h[0], k[0])\n",
        "plt.figure(figsize=(16, 6))\n",
        "plt.suptitle(f'Node Count 16 and 112')\n",
        "plt.style.use('default')\n",
        "\n",
        "# Plot loss\n",
        "plt.subplot(1, 2, 1)\n",
        "plt.plot(range(1,21),h[1][:20])\n",
        "plt.plot(range(1,21),k[1][:20])\n",
        "plt.xticks(np.arange(1, 21, 1.0))\n",
        "plt.ylabel('loss', size=12)\n",
        "plt.xlabel('epoch', size=12)\n",
        "plt.legend(['Node Count 16', 'Node Count 112'], fontsize=14)\n",
        "\n",
        "# Plot accuracy\n",
        "plt.subplot(1, 2, 2)\n",
        "plt.plot(range(1,21),h[2][:20])\n",
        "plt.plot(range(1,21),k[2][:20])\n",
        "plt.xticks(np.arange(1, 21, 1.0))\n",
        "plt.ylabel('accuracy', size=12)\n",
        "plt.xlabel('epoch', size=12)\n",
        "plt.legend(['Node Count 16', 'Node Count 112'], fontsize=14)\n",
        "\n",
        "plt.show()"
      ]
    }
  ],
  "metadata": {
    "accelerator": "GPU",
    "colab": {
      "collapsed_sections": [],
      "machine_shape": "hm",
      "name": "MainMain.ipynb",
      "provenance": []
    },
    "gpuClass": "standard",
    "kernelspec": {
      "display_name": "Python 3",
      "name": "python3"
    },
    "language_info": {
      "name": "python"
    }
  },
  "nbformat": 4,
  "nbformat_minor": 0
}